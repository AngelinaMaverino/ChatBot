{
  "nbformat": 4,
  "nbformat_minor": 0,
  "metadata": {
    "colab": {
      "provenance": [],
      "gpuType": "T4"
    },
    "kernelspec": {
      "name": "python3",
      "display_name": "Python 3"
    },
    "language_info": {
      "name": "python"
    },
    "accelerator": "GPU",
    "widgets": {
      "application/vnd.jupyter.widget-state+json": {
        "5c7ba10a1459402e8ba3edc2ff427141": {
          "model_module": "@jupyter-widgets/controls",
          "model_name": "HBoxModel",
          "model_module_version": "1.5.0",
          "state": {
            "_dom_classes": [],
            "_model_module": "@jupyter-widgets/controls",
            "_model_module_version": "1.5.0",
            "_model_name": "HBoxModel",
            "_view_count": null,
            "_view_module": "@jupyter-widgets/controls",
            "_view_module_version": "1.5.0",
            "_view_name": "HBoxView",
            "box_style": "",
            "children": [
              "IPY_MODEL_3fd3d337420a4155b38555a497c33b6a",
              "IPY_MODEL_eb3d54879d8f44a6b5d37f470cf6c283",
              "IPY_MODEL_bf72eab493fa46d1abdddeeecddfaac6"
            ],
            "layout": "IPY_MODEL_b22d74b24d2d4d06973d8fb24a268da6"
          }
        },
        "3fd3d337420a4155b38555a497c33b6a": {
          "model_module": "@jupyter-widgets/controls",
          "model_name": "HTMLModel",
          "model_module_version": "1.5.0",
          "state": {
            "_dom_classes": [],
            "_model_module": "@jupyter-widgets/controls",
            "_model_module_version": "1.5.0",
            "_model_name": "HTMLModel",
            "_view_count": null,
            "_view_module": "@jupyter-widgets/controls",
            "_view_module_version": "1.5.0",
            "_view_name": "HTMLView",
            "description": "",
            "description_tooltip": null,
            "layout": "IPY_MODEL_c71c7c6ccf55402093ade55caf278734",
            "placeholder": "​",
            "style": "IPY_MODEL_c0d9584334e244078c84e292294ea7a2",
            "value": "model.safetensors.index.json: 100%"
          }
        },
        "eb3d54879d8f44a6b5d37f470cf6c283": {
          "model_module": "@jupyter-widgets/controls",
          "model_name": "FloatProgressModel",
          "model_module_version": "1.5.0",
          "state": {
            "_dom_classes": [],
            "_model_module": "@jupyter-widgets/controls",
            "_model_module_version": "1.5.0",
            "_model_name": "FloatProgressModel",
            "_view_count": null,
            "_view_module": "@jupyter-widgets/controls",
            "_view_module_version": "1.5.0",
            "_view_name": "ProgressView",
            "bar_style": "success",
            "description": "",
            "description_tooltip": null,
            "layout": "IPY_MODEL_e198c80d3a7e4bdbbca578a06109cf0e",
            "max": 25125,
            "min": 0,
            "orientation": "horizontal",
            "style": "IPY_MODEL_1380f452500c44a6a144394da3d3445a",
            "value": 25125
          }
        },
        "bf72eab493fa46d1abdddeeecddfaac6": {
          "model_module": "@jupyter-widgets/controls",
          "model_name": "HTMLModel",
          "model_module_version": "1.5.0",
          "state": {
            "_dom_classes": [],
            "_model_module": "@jupyter-widgets/controls",
            "_model_module_version": "1.5.0",
            "_model_name": "HTMLModel",
            "_view_count": null,
            "_view_module": "@jupyter-widgets/controls",
            "_view_module_version": "1.5.0",
            "_view_name": "HTMLView",
            "description": "",
            "description_tooltip": null,
            "layout": "IPY_MODEL_c5f1605fe8f243059f7350e320a31b20",
            "placeholder": "​",
            "style": "IPY_MODEL_fc9f68359067479c9a9f3958e96f56b4",
            "value": " 25.1k/25.1k [00:00&lt;00:00, 647kB/s]"
          }
        },
        "b22d74b24d2d4d06973d8fb24a268da6": {
          "model_module": "@jupyter-widgets/base",
          "model_name": "LayoutModel",
          "model_module_version": "1.2.0",
          "state": {
            "_model_module": "@jupyter-widgets/base",
            "_model_module_version": "1.2.0",
            "_model_name": "LayoutModel",
            "_view_count": null,
            "_view_module": "@jupyter-widgets/base",
            "_view_module_version": "1.2.0",
            "_view_name": "LayoutView",
            "align_content": null,
            "align_items": null,
            "align_self": null,
            "border": null,
            "bottom": null,
            "display": null,
            "flex": null,
            "flex_flow": null,
            "grid_area": null,
            "grid_auto_columns": null,
            "grid_auto_flow": null,
            "grid_auto_rows": null,
            "grid_column": null,
            "grid_gap": null,
            "grid_row": null,
            "grid_template_areas": null,
            "grid_template_columns": null,
            "grid_template_rows": null,
            "height": null,
            "justify_content": null,
            "justify_items": null,
            "left": null,
            "margin": null,
            "max_height": null,
            "max_width": null,
            "min_height": null,
            "min_width": null,
            "object_fit": null,
            "object_position": null,
            "order": null,
            "overflow": null,
            "overflow_x": null,
            "overflow_y": null,
            "padding": null,
            "right": null,
            "top": null,
            "visibility": null,
            "width": null
          }
        },
        "c71c7c6ccf55402093ade55caf278734": {
          "model_module": "@jupyter-widgets/base",
          "model_name": "LayoutModel",
          "model_module_version": "1.2.0",
          "state": {
            "_model_module": "@jupyter-widgets/base",
            "_model_module_version": "1.2.0",
            "_model_name": "LayoutModel",
            "_view_count": null,
            "_view_module": "@jupyter-widgets/base",
            "_view_module_version": "1.2.0",
            "_view_name": "LayoutView",
            "align_content": null,
            "align_items": null,
            "align_self": null,
            "border": null,
            "bottom": null,
            "display": null,
            "flex": null,
            "flex_flow": null,
            "grid_area": null,
            "grid_auto_columns": null,
            "grid_auto_flow": null,
            "grid_auto_rows": null,
            "grid_column": null,
            "grid_gap": null,
            "grid_row": null,
            "grid_template_areas": null,
            "grid_template_columns": null,
            "grid_template_rows": null,
            "height": null,
            "justify_content": null,
            "justify_items": null,
            "left": null,
            "margin": null,
            "max_height": null,
            "max_width": null,
            "min_height": null,
            "min_width": null,
            "object_fit": null,
            "object_position": null,
            "order": null,
            "overflow": null,
            "overflow_x": null,
            "overflow_y": null,
            "padding": null,
            "right": null,
            "top": null,
            "visibility": null,
            "width": null
          }
        },
        "c0d9584334e244078c84e292294ea7a2": {
          "model_module": "@jupyter-widgets/controls",
          "model_name": "DescriptionStyleModel",
          "model_module_version": "1.5.0",
          "state": {
            "_model_module": "@jupyter-widgets/controls",
            "_model_module_version": "1.5.0",
            "_model_name": "DescriptionStyleModel",
            "_view_count": null,
            "_view_module": "@jupyter-widgets/base",
            "_view_module_version": "1.2.0",
            "_view_name": "StyleView",
            "description_width": ""
          }
        },
        "e198c80d3a7e4bdbbca578a06109cf0e": {
          "model_module": "@jupyter-widgets/base",
          "model_name": "LayoutModel",
          "model_module_version": "1.2.0",
          "state": {
            "_model_module": "@jupyter-widgets/base",
            "_model_module_version": "1.2.0",
            "_model_name": "LayoutModel",
            "_view_count": null,
            "_view_module": "@jupyter-widgets/base",
            "_view_module_version": "1.2.0",
            "_view_name": "LayoutView",
            "align_content": null,
            "align_items": null,
            "align_self": null,
            "border": null,
            "bottom": null,
            "display": null,
            "flex": null,
            "flex_flow": null,
            "grid_area": null,
            "grid_auto_columns": null,
            "grid_auto_flow": null,
            "grid_auto_rows": null,
            "grid_column": null,
            "grid_gap": null,
            "grid_row": null,
            "grid_template_areas": null,
            "grid_template_columns": null,
            "grid_template_rows": null,
            "height": null,
            "justify_content": null,
            "justify_items": null,
            "left": null,
            "margin": null,
            "max_height": null,
            "max_width": null,
            "min_height": null,
            "min_width": null,
            "object_fit": null,
            "object_position": null,
            "order": null,
            "overflow": null,
            "overflow_x": null,
            "overflow_y": null,
            "padding": null,
            "right": null,
            "top": null,
            "visibility": null,
            "width": null
          }
        },
        "1380f452500c44a6a144394da3d3445a": {
          "model_module": "@jupyter-widgets/controls",
          "model_name": "ProgressStyleModel",
          "model_module_version": "1.5.0",
          "state": {
            "_model_module": "@jupyter-widgets/controls",
            "_model_module_version": "1.5.0",
            "_model_name": "ProgressStyleModel",
            "_view_count": null,
            "_view_module": "@jupyter-widgets/base",
            "_view_module_version": "1.2.0",
            "_view_name": "StyleView",
            "bar_color": null,
            "description_width": ""
          }
        },
        "c5f1605fe8f243059f7350e320a31b20": {
          "model_module": "@jupyter-widgets/base",
          "model_name": "LayoutModel",
          "model_module_version": "1.2.0",
          "state": {
            "_model_module": "@jupyter-widgets/base",
            "_model_module_version": "1.2.0",
            "_model_name": "LayoutModel",
            "_view_count": null,
            "_view_module": "@jupyter-widgets/base",
            "_view_module_version": "1.2.0",
            "_view_name": "LayoutView",
            "align_content": null,
            "align_items": null,
            "align_self": null,
            "border": null,
            "bottom": null,
            "display": null,
            "flex": null,
            "flex_flow": null,
            "grid_area": null,
            "grid_auto_columns": null,
            "grid_auto_flow": null,
            "grid_auto_rows": null,
            "grid_column": null,
            "grid_gap": null,
            "grid_row": null,
            "grid_template_areas": null,
            "grid_template_columns": null,
            "grid_template_rows": null,
            "height": null,
            "justify_content": null,
            "justify_items": null,
            "left": null,
            "margin": null,
            "max_height": null,
            "max_width": null,
            "min_height": null,
            "min_width": null,
            "object_fit": null,
            "object_position": null,
            "order": null,
            "overflow": null,
            "overflow_x": null,
            "overflow_y": null,
            "padding": null,
            "right": null,
            "top": null,
            "visibility": null,
            "width": null
          }
        },
        "fc9f68359067479c9a9f3958e96f56b4": {
          "model_module": "@jupyter-widgets/controls",
          "model_name": "DescriptionStyleModel",
          "model_module_version": "1.5.0",
          "state": {
            "_model_module": "@jupyter-widgets/controls",
            "_model_module_version": "1.5.0",
            "_model_name": "DescriptionStyleModel",
            "_view_count": null,
            "_view_module": "@jupyter-widgets/base",
            "_view_module_version": "1.2.0",
            "_view_name": "StyleView",
            "description_width": ""
          }
        },
        "f6ec0308a64146eab58af42565b2f5f4": {
          "model_module": "@jupyter-widgets/controls",
          "model_name": "HBoxModel",
          "model_module_version": "1.5.0",
          "state": {
            "_dom_classes": [],
            "_model_module": "@jupyter-widgets/controls",
            "_model_module_version": "1.5.0",
            "_model_name": "HBoxModel",
            "_view_count": null,
            "_view_module": "@jupyter-widgets/controls",
            "_view_module_version": "1.5.0",
            "_view_name": "HBoxView",
            "box_style": "",
            "children": [
              "IPY_MODEL_a32b6a62158e469f9cea71f3bdb67c21",
              "IPY_MODEL_59ad903c7bda4fafaa745186c832fbe2",
              "IPY_MODEL_ee20061c4b5d4c5aa747deed6fbc5407"
            ],
            "layout": "IPY_MODEL_4ee112a90bf44937a88614e87603200b"
          }
        },
        "a32b6a62158e469f9cea71f3bdb67c21": {
          "model_module": "@jupyter-widgets/controls",
          "model_name": "HTMLModel",
          "model_module_version": "1.5.0",
          "state": {
            "_dom_classes": [],
            "_model_module": "@jupyter-widgets/controls",
            "_model_module_version": "1.5.0",
            "_model_name": "HTMLModel",
            "_view_count": null,
            "_view_module": "@jupyter-widgets/controls",
            "_view_module_version": "1.5.0",
            "_view_name": "HTMLView",
            "description": "",
            "description_tooltip": null,
            "layout": "IPY_MODEL_12ed4730f5364055b190162adef321c0",
            "placeholder": "​",
            "style": "IPY_MODEL_68d5e6d670a44a2c90598875f3b9d432",
            "value": "Downloading shards:   0%"
          }
        },
        "59ad903c7bda4fafaa745186c832fbe2": {
          "model_module": "@jupyter-widgets/controls",
          "model_name": "FloatProgressModel",
          "model_module_version": "1.5.0",
          "state": {
            "_dom_classes": [],
            "_model_module": "@jupyter-widgets/controls",
            "_model_module_version": "1.5.0",
            "_model_name": "FloatProgressModel",
            "_view_count": null,
            "_view_module": "@jupyter-widgets/controls",
            "_view_module_version": "1.5.0",
            "_view_name": "ProgressView",
            "bar_style": "",
            "description": "",
            "description_tooltip": null,
            "layout": "IPY_MODEL_baeaa7d3423f4a2781e6e1f1f14fab27",
            "max": 2,
            "min": 0,
            "orientation": "horizontal",
            "style": "IPY_MODEL_2b495e7214b04881a97dfa69a758b303",
            "value": 0
          }
        },
        "ee20061c4b5d4c5aa747deed6fbc5407": {
          "model_module": "@jupyter-widgets/controls",
          "model_name": "HTMLModel",
          "model_module_version": "1.5.0",
          "state": {
            "_dom_classes": [],
            "_model_module": "@jupyter-widgets/controls",
            "_model_module_version": "1.5.0",
            "_model_name": "HTMLModel",
            "_view_count": null,
            "_view_module": "@jupyter-widgets/controls",
            "_view_module_version": "1.5.0",
            "_view_name": "HTMLView",
            "description": "",
            "description_tooltip": null,
            "layout": "IPY_MODEL_532e99b86da94ff0b65bea0ffadf8070",
            "placeholder": "​",
            "style": "IPY_MODEL_d1c66060b7cd47d9b79eb3c3902ab2fd",
            "value": " 0/2 [00:00&lt;?, ?it/s]"
          }
        },
        "4ee112a90bf44937a88614e87603200b": {
          "model_module": "@jupyter-widgets/base",
          "model_name": "LayoutModel",
          "model_module_version": "1.2.0",
          "state": {
            "_model_module": "@jupyter-widgets/base",
            "_model_module_version": "1.2.0",
            "_model_name": "LayoutModel",
            "_view_count": null,
            "_view_module": "@jupyter-widgets/base",
            "_view_module_version": "1.2.0",
            "_view_name": "LayoutView",
            "align_content": null,
            "align_items": null,
            "align_self": null,
            "border": null,
            "bottom": null,
            "display": null,
            "flex": null,
            "flex_flow": null,
            "grid_area": null,
            "grid_auto_columns": null,
            "grid_auto_flow": null,
            "grid_auto_rows": null,
            "grid_column": null,
            "grid_gap": null,
            "grid_row": null,
            "grid_template_areas": null,
            "grid_template_columns": null,
            "grid_template_rows": null,
            "height": null,
            "justify_content": null,
            "justify_items": null,
            "left": null,
            "margin": null,
            "max_height": null,
            "max_width": null,
            "min_height": null,
            "min_width": null,
            "object_fit": null,
            "object_position": null,
            "order": null,
            "overflow": null,
            "overflow_x": null,
            "overflow_y": null,
            "padding": null,
            "right": null,
            "top": null,
            "visibility": null,
            "width": null
          }
        },
        "12ed4730f5364055b190162adef321c0": {
          "model_module": "@jupyter-widgets/base",
          "model_name": "LayoutModel",
          "model_module_version": "1.2.0",
          "state": {
            "_model_module": "@jupyter-widgets/base",
            "_model_module_version": "1.2.0",
            "_model_name": "LayoutModel",
            "_view_count": null,
            "_view_module": "@jupyter-widgets/base",
            "_view_module_version": "1.2.0",
            "_view_name": "LayoutView",
            "align_content": null,
            "align_items": null,
            "align_self": null,
            "border": null,
            "bottom": null,
            "display": null,
            "flex": null,
            "flex_flow": null,
            "grid_area": null,
            "grid_auto_columns": null,
            "grid_auto_flow": null,
            "grid_auto_rows": null,
            "grid_column": null,
            "grid_gap": null,
            "grid_row": null,
            "grid_template_areas": null,
            "grid_template_columns": null,
            "grid_template_rows": null,
            "height": null,
            "justify_content": null,
            "justify_items": null,
            "left": null,
            "margin": null,
            "max_height": null,
            "max_width": null,
            "min_height": null,
            "min_width": null,
            "object_fit": null,
            "object_position": null,
            "order": null,
            "overflow": null,
            "overflow_x": null,
            "overflow_y": null,
            "padding": null,
            "right": null,
            "top": null,
            "visibility": null,
            "width": null
          }
        },
        "68d5e6d670a44a2c90598875f3b9d432": {
          "model_module": "@jupyter-widgets/controls",
          "model_name": "DescriptionStyleModel",
          "model_module_version": "1.5.0",
          "state": {
            "_model_module": "@jupyter-widgets/controls",
            "_model_module_version": "1.5.0",
            "_model_name": "DescriptionStyleModel",
            "_view_count": null,
            "_view_module": "@jupyter-widgets/base",
            "_view_module_version": "1.2.0",
            "_view_name": "StyleView",
            "description_width": ""
          }
        },
        "baeaa7d3423f4a2781e6e1f1f14fab27": {
          "model_module": "@jupyter-widgets/base",
          "model_name": "LayoutModel",
          "model_module_version": "1.2.0",
          "state": {
            "_model_module": "@jupyter-widgets/base",
            "_model_module_version": "1.2.0",
            "_model_name": "LayoutModel",
            "_view_count": null,
            "_view_module": "@jupyter-widgets/base",
            "_view_module_version": "1.2.0",
            "_view_name": "LayoutView",
            "align_content": null,
            "align_items": null,
            "align_self": null,
            "border": null,
            "bottom": null,
            "display": null,
            "flex": null,
            "flex_flow": null,
            "grid_area": null,
            "grid_auto_columns": null,
            "grid_auto_flow": null,
            "grid_auto_rows": null,
            "grid_column": null,
            "grid_gap": null,
            "grid_row": null,
            "grid_template_areas": null,
            "grid_template_columns": null,
            "grid_template_rows": null,
            "height": null,
            "justify_content": null,
            "justify_items": null,
            "left": null,
            "margin": null,
            "max_height": null,
            "max_width": null,
            "min_height": null,
            "min_width": null,
            "object_fit": null,
            "object_position": null,
            "order": null,
            "overflow": null,
            "overflow_x": null,
            "overflow_y": null,
            "padding": null,
            "right": null,
            "top": null,
            "visibility": null,
            "width": null
          }
        },
        "2b495e7214b04881a97dfa69a758b303": {
          "model_module": "@jupyter-widgets/controls",
          "model_name": "ProgressStyleModel",
          "model_module_version": "1.5.0",
          "state": {
            "_model_module": "@jupyter-widgets/controls",
            "_model_module_version": "1.5.0",
            "_model_name": "ProgressStyleModel",
            "_view_count": null,
            "_view_module": "@jupyter-widgets/base",
            "_view_module_version": "1.2.0",
            "_view_name": "StyleView",
            "bar_color": null,
            "description_width": ""
          }
        },
        "532e99b86da94ff0b65bea0ffadf8070": {
          "model_module": "@jupyter-widgets/base",
          "model_name": "LayoutModel",
          "model_module_version": "1.2.0",
          "state": {
            "_model_module": "@jupyter-widgets/base",
            "_model_module_version": "1.2.0",
            "_model_name": "LayoutModel",
            "_view_count": null,
            "_view_module": "@jupyter-widgets/base",
            "_view_module_version": "1.2.0",
            "_view_name": "LayoutView",
            "align_content": null,
            "align_items": null,
            "align_self": null,
            "border": null,
            "bottom": null,
            "display": null,
            "flex": null,
            "flex_flow": null,
            "grid_area": null,
            "grid_auto_columns": null,
            "grid_auto_flow": null,
            "grid_auto_rows": null,
            "grid_column": null,
            "grid_gap": null,
            "grid_row": null,
            "grid_template_areas": null,
            "grid_template_columns": null,
            "grid_template_rows": null,
            "height": null,
            "justify_content": null,
            "justify_items": null,
            "left": null,
            "margin": null,
            "max_height": null,
            "max_width": null,
            "min_height": null,
            "min_width": null,
            "object_fit": null,
            "object_position": null,
            "order": null,
            "overflow": null,
            "overflow_x": null,
            "overflow_y": null,
            "padding": null,
            "right": null,
            "top": null,
            "visibility": null,
            "width": null
          }
        },
        "d1c66060b7cd47d9b79eb3c3902ab2fd": {
          "model_module": "@jupyter-widgets/controls",
          "model_name": "DescriptionStyleModel",
          "model_module_version": "1.5.0",
          "state": {
            "_model_module": "@jupyter-widgets/controls",
            "_model_module_version": "1.5.0",
            "_model_name": "DescriptionStyleModel",
            "_view_count": null,
            "_view_module": "@jupyter-widgets/base",
            "_view_module_version": "1.2.0",
            "_view_name": "StyleView",
            "description_width": ""
          }
        },
        "db78e749444e43bc96340d702e73edc3": {
          "model_module": "@jupyter-widgets/controls",
          "model_name": "HBoxModel",
          "model_module_version": "1.5.0",
          "state": {
            "_dom_classes": [],
            "_model_module": "@jupyter-widgets/controls",
            "_model_module_version": "1.5.0",
            "_model_name": "HBoxModel",
            "_view_count": null,
            "_view_module": "@jupyter-widgets/controls",
            "_view_module_version": "1.5.0",
            "_view_name": "HBoxView",
            "box_style": "",
            "children": [
              "IPY_MODEL_f0d24cc1281f49d49dc11b1969f7a3b4",
              "IPY_MODEL_e3834df4a07a4aeda91f9f439702cfc1",
              "IPY_MODEL_defe51e33a5245ad9b11e9e3136dcaaf"
            ],
            "layout": "IPY_MODEL_d8b6dc4ad3f34cad979b7c7c425a6cb7"
          }
        },
        "f0d24cc1281f49d49dc11b1969f7a3b4": {
          "model_module": "@jupyter-widgets/controls",
          "model_name": "HTMLModel",
          "model_module_version": "1.5.0",
          "state": {
            "_dom_classes": [],
            "_model_module": "@jupyter-widgets/controls",
            "_model_module_version": "1.5.0",
            "_model_name": "HTMLModel",
            "_view_count": null,
            "_view_module": "@jupyter-widgets/controls",
            "_view_module_version": "1.5.0",
            "_view_name": "HTMLView",
            "description": "",
            "description_tooltip": null,
            "layout": "IPY_MODEL_33a71f46371b48898be1f14065db8aa4",
            "placeholder": "​",
            "style": "IPY_MODEL_f91184f716254c2f8b872997f9bc9b1b",
            "value": "model-00001-of-00002.safetensors:  17%"
          }
        },
        "e3834df4a07a4aeda91f9f439702cfc1": {
          "model_module": "@jupyter-widgets/controls",
          "model_name": "FloatProgressModel",
          "model_module_version": "1.5.0",
          "state": {
            "_dom_classes": [],
            "_model_module": "@jupyter-widgets/controls",
            "_model_module_version": "1.5.0",
            "_model_name": "FloatProgressModel",
            "_view_count": null,
            "_view_module": "@jupyter-widgets/controls",
            "_view_module_version": "1.5.0",
            "_view_name": "ProgressView",
            "bar_style": "",
            "description": "",
            "description_tooltip": null,
            "layout": "IPY_MODEL_23d7f4b8d41e45a4b974fa76749a6001",
            "max": 9942981696,
            "min": 0,
            "orientation": "horizontal",
            "style": "IPY_MODEL_c1c92145716c4b929a19dc62c340c830",
            "value": 1672467428
          }
        },
        "defe51e33a5245ad9b11e9e3136dcaaf": {
          "model_module": "@jupyter-widgets/controls",
          "model_name": "HTMLModel",
          "model_module_version": "1.5.0",
          "state": {
            "_dom_classes": [],
            "_model_module": "@jupyter-widgets/controls",
            "_model_module_version": "1.5.0",
            "_model_name": "HTMLModel",
            "_view_count": null,
            "_view_module": "@jupyter-widgets/controls",
            "_view_module_version": "1.5.0",
            "_view_name": "HTMLView",
            "description": "",
            "description_tooltip": null,
            "layout": "IPY_MODEL_6fd0950b20294b16885ff33c18f9bc2c",
            "placeholder": "​",
            "style": "IPY_MODEL_730783c61cb6434a907416ad89e165f4",
            "value": " 1.67G/9.94G [14:27&lt;13:13:58, 174kB/s]"
          }
        },
        "d8b6dc4ad3f34cad979b7c7c425a6cb7": {
          "model_module": "@jupyter-widgets/base",
          "model_name": "LayoutModel",
          "model_module_version": "1.2.0",
          "state": {
            "_model_module": "@jupyter-widgets/base",
            "_model_module_version": "1.2.0",
            "_model_name": "LayoutModel",
            "_view_count": null,
            "_view_module": "@jupyter-widgets/base",
            "_view_module_version": "1.2.0",
            "_view_name": "LayoutView",
            "align_content": null,
            "align_items": null,
            "align_self": null,
            "border": null,
            "bottom": null,
            "display": null,
            "flex": null,
            "flex_flow": null,
            "grid_area": null,
            "grid_auto_columns": null,
            "grid_auto_flow": null,
            "grid_auto_rows": null,
            "grid_column": null,
            "grid_gap": null,
            "grid_row": null,
            "grid_template_areas": null,
            "grid_template_columns": null,
            "grid_template_rows": null,
            "height": null,
            "justify_content": null,
            "justify_items": null,
            "left": null,
            "margin": null,
            "max_height": null,
            "max_width": null,
            "min_height": null,
            "min_width": null,
            "object_fit": null,
            "object_position": null,
            "order": null,
            "overflow": null,
            "overflow_x": null,
            "overflow_y": null,
            "padding": null,
            "right": null,
            "top": null,
            "visibility": null,
            "width": null
          }
        },
        "33a71f46371b48898be1f14065db8aa4": {
          "model_module": "@jupyter-widgets/base",
          "model_name": "LayoutModel",
          "model_module_version": "1.2.0",
          "state": {
            "_model_module": "@jupyter-widgets/base",
            "_model_module_version": "1.2.0",
            "_model_name": "LayoutModel",
            "_view_count": null,
            "_view_module": "@jupyter-widgets/base",
            "_view_module_version": "1.2.0",
            "_view_name": "LayoutView",
            "align_content": null,
            "align_items": null,
            "align_self": null,
            "border": null,
            "bottom": null,
            "display": null,
            "flex": null,
            "flex_flow": null,
            "grid_area": null,
            "grid_auto_columns": null,
            "grid_auto_flow": null,
            "grid_auto_rows": null,
            "grid_column": null,
            "grid_gap": null,
            "grid_row": null,
            "grid_template_areas": null,
            "grid_template_columns": null,
            "grid_template_rows": null,
            "height": null,
            "justify_content": null,
            "justify_items": null,
            "left": null,
            "margin": null,
            "max_height": null,
            "max_width": null,
            "min_height": null,
            "min_width": null,
            "object_fit": null,
            "object_position": null,
            "order": null,
            "overflow": null,
            "overflow_x": null,
            "overflow_y": null,
            "padding": null,
            "right": null,
            "top": null,
            "visibility": null,
            "width": null
          }
        },
        "f91184f716254c2f8b872997f9bc9b1b": {
          "model_module": "@jupyter-widgets/controls",
          "model_name": "DescriptionStyleModel",
          "model_module_version": "1.5.0",
          "state": {
            "_model_module": "@jupyter-widgets/controls",
            "_model_module_version": "1.5.0",
            "_model_name": "DescriptionStyleModel",
            "_view_count": null,
            "_view_module": "@jupyter-widgets/base",
            "_view_module_version": "1.2.0",
            "_view_name": "StyleView",
            "description_width": ""
          }
        },
        "23d7f4b8d41e45a4b974fa76749a6001": {
          "model_module": "@jupyter-widgets/base",
          "model_name": "LayoutModel",
          "model_module_version": "1.2.0",
          "state": {
            "_model_module": "@jupyter-widgets/base",
            "_model_module_version": "1.2.0",
            "_model_name": "LayoutModel",
            "_view_count": null,
            "_view_module": "@jupyter-widgets/base",
            "_view_module_version": "1.2.0",
            "_view_name": "LayoutView",
            "align_content": null,
            "align_items": null,
            "align_self": null,
            "border": null,
            "bottom": null,
            "display": null,
            "flex": null,
            "flex_flow": null,
            "grid_area": null,
            "grid_auto_columns": null,
            "grid_auto_flow": null,
            "grid_auto_rows": null,
            "grid_column": null,
            "grid_gap": null,
            "grid_row": null,
            "grid_template_areas": null,
            "grid_template_columns": null,
            "grid_template_rows": null,
            "height": null,
            "justify_content": null,
            "justify_items": null,
            "left": null,
            "margin": null,
            "max_height": null,
            "max_width": null,
            "min_height": null,
            "min_width": null,
            "object_fit": null,
            "object_position": null,
            "order": null,
            "overflow": null,
            "overflow_x": null,
            "overflow_y": null,
            "padding": null,
            "right": null,
            "top": null,
            "visibility": null,
            "width": null
          }
        },
        "c1c92145716c4b929a19dc62c340c830": {
          "model_module": "@jupyter-widgets/controls",
          "model_name": "ProgressStyleModel",
          "model_module_version": "1.5.0",
          "state": {
            "_model_module": "@jupyter-widgets/controls",
            "_model_module_version": "1.5.0",
            "_model_name": "ProgressStyleModel",
            "_view_count": null,
            "_view_module": "@jupyter-widgets/base",
            "_view_module_version": "1.2.0",
            "_view_name": "StyleView",
            "bar_color": null,
            "description_width": ""
          }
        },
        "6fd0950b20294b16885ff33c18f9bc2c": {
          "model_module": "@jupyter-widgets/base",
          "model_name": "LayoutModel",
          "model_module_version": "1.2.0",
          "state": {
            "_model_module": "@jupyter-widgets/base",
            "_model_module_version": "1.2.0",
            "_model_name": "LayoutModel",
            "_view_count": null,
            "_view_module": "@jupyter-widgets/base",
            "_view_module_version": "1.2.0",
            "_view_name": "LayoutView",
            "align_content": null,
            "align_items": null,
            "align_self": null,
            "border": null,
            "bottom": null,
            "display": null,
            "flex": null,
            "flex_flow": null,
            "grid_area": null,
            "grid_auto_columns": null,
            "grid_auto_flow": null,
            "grid_auto_rows": null,
            "grid_column": null,
            "grid_gap": null,
            "grid_row": null,
            "grid_template_areas": null,
            "grid_template_columns": null,
            "grid_template_rows": null,
            "height": null,
            "justify_content": null,
            "justify_items": null,
            "left": null,
            "margin": null,
            "max_height": null,
            "max_width": null,
            "min_height": null,
            "min_width": null,
            "object_fit": null,
            "object_position": null,
            "order": null,
            "overflow": null,
            "overflow_x": null,
            "overflow_y": null,
            "padding": null,
            "right": null,
            "top": null,
            "visibility": null,
            "width": null
          }
        },
        "730783c61cb6434a907416ad89e165f4": {
          "model_module": "@jupyter-widgets/controls",
          "model_name": "DescriptionStyleModel",
          "model_module_version": "1.5.0",
          "state": {
            "_model_module": "@jupyter-widgets/controls",
            "_model_module_version": "1.5.0",
            "_model_name": "DescriptionStyleModel",
            "_view_count": null,
            "_view_module": "@jupyter-widgets/base",
            "_view_module_version": "1.2.0",
            "_view_name": "StyleView",
            "description_width": ""
          }
        }
      }
    }
  },
  "cells": [
    {
      "cell_type": "markdown",
      "metadata": {
        "id": "view-in-github"
      },
      "source": [
        "<a href=\"https://colab.research.google.com/github/AngelinaMaverino/ChatBot/blob/copy-googleColab/CHATBOT.ipynb\" target=\"_parent\"><img src=\"https://colab.research.google.com/assets/colab-badge.svg\" alt=\"Open In Colab\"/></a>"
      ]
    },
    {
      "cell_type": "markdown",
      "source": [
        "# ChatBot\n"
      ],
      "metadata": {
        "id": "-lsq0s1o448y"
      }
    },
    {
      "cell_type": "markdown",
      "source": [
        "## Importar librerias"
      ],
      "metadata": {
        "id": "7kEz7FZ_TTtl"
      }
    },
    {
      "cell_type": "code",
      "source": [
        "!pip install sentence-transformers==3.3.0\n",
        "!pip install --upgrade pinecone\n",
        "!pip install accelerate==1.1.1\n",
        "!pip install transformers==4.46.2\n",
        "!pip install langchain-community==0.3.5\n",
        "!pip install bitsandbytes==0.44.1\n",
        "!pip install diffusers==0.27.2\n",
        "!pip install beautifulsoup4==4.12.3"
      ],
      "metadata": {
        "id": "GNK9r_q5E859"
      },
      "execution_count": null,
      "outputs": []
    },
    {
      "cell_type": "code",
      "source": [
        "from transformers import pipeline\n",
        "\n",
        "import torch\n",
        "from transformers import BitsAndBytesConfig, AutoModelForCausalLM, AutoTokenizer, pipeline\n",
        "\n",
        "import re\n",
        "\n",
        "from bs4 import BeautifulSoup\n",
        "\n",
        "import requests\n",
        "from bs4 import BeautifulSoup\n",
        "from langchain.schema import Document\n",
        "from langchain.text_splitter import RecursiveCharacterTextSplitter\n",
        "from langchain.embeddings import HuggingFaceEmbeddings\n",
        "import pinecone\n",
        "\n",
        "from pinecone import Pinecone, ServerlessSpec\n"
      ],
      "metadata": {
        "id": "aM4YSYvFzKYQ"
      },
      "execution_count": null,
      "outputs": []
    },
    {
      "cell_type": "markdown",
      "source": [
        "## Normalizar texto"
      ],
      "metadata": {
        "id": "p6QlUCSHTbin"
      }
    },
    {
      "cell_type": "code",
      "source": [
        "def normalize_text(text):\n",
        "    text = text.lower()\n",
        "    # Elimina caracteres especiales y multiples espacios en blanco\n",
        "    text = re.sub(r'[^a-záéíóúñ0-9\\s\\(\\):,\\.]', '', text)\n",
        "    text = re.sub(r'\\s+', ' ', text).strip()\n",
        "    return text\n"
      ],
      "metadata": {
        "id": "CCDVBrVZBYQN"
      },
      "execution_count": null,
      "outputs": []
    },
    {
      "cell_type": "markdown",
      "source": [
        "## Scraping de la web de ort"
      ],
      "metadata": {
        "id": "WZFUFvL-Tgy0"
      }
    },
    {
      "cell_type": "markdown",
      "source": [
        "### Procesamiento de los enlaces dentro de la página"
      ],
      "metadata": {
        "id": "Dr8gLJIQ3d9B"
      }
    },
    {
      "cell_type": "code",
      "source": [
        "def extraer_enlaces(soup):\n",
        "    enlaces = []\n",
        "\n",
        "    # Obtenemos solo los links que se encuentran en la pagina \"central\", no en el footer ni header\n",
        "    central_panel = soup.find('div', id='centralpanel')\n",
        "\n",
        "    if central_panel:\n",
        "        for tag in central_panel.find_all('a', href=True):\n",
        "            enlaces.append(tag['href'])\n",
        "\n",
        "    return enlaces\n"
      ],
      "metadata": {
        "id": "xqgguH7Qb36a"
      },
      "execution_count": null,
      "outputs": []
    },
    {
      "cell_type": "markdown",
      "source": [
        "También se procesan los diferentes enlaces de la página para obtener más información. Esto no incluye los enlaces del pie de página (footer) ni del encabezado (header), aunque podrían ser incorporados en el futuro."
      ],
      "metadata": {
        "id": "sDbIZEa80gyD"
      }
    },
    {
      "cell_type": "code",
      "source": [
        "def procesar_enlaces(base_url, enlaces):\n",
        "    documents = []\n",
        "\n",
        "    for enlace in enlaces:\n",
        "        if not enlace.startswith('http'):\n",
        "            enlace = base_url + enlace\n",
        "\n",
        "        try:\n",
        "            response = requests.get(enlace)\n",
        "            if response.status_code == 200:\n",
        "                soup = BeautifulSoup(response.content, 'html.parser')\n",
        "                docs_from_link = procesar_documento(soup)\n",
        "                documents.extend(docs_from_link)  # Añadir los documentos procesados a la lista\n",
        "        except requests.exceptions.RequestException as e:\n",
        "            print(f\"Error al procesar el enlace {enlace}: {e}\")\n",
        "\n",
        "    return documents\n"
      ],
      "metadata": {
        "id": "Y-HNx9jIb4bb"
      },
      "execution_count": null,
      "outputs": []
    },
    {
      "cell_type": "markdown",
      "source": [
        "### Procesamiento de la pagina"
      ],
      "metadata": {
        "id": "UwFc15zB3mfU"
      }
    },
    {
      "cell_type": "markdown",
      "source": [
        "Desarrollamos una función que vincula los títulos con los textos correspondientes, ya que la estructura de la página, caracterizada por títulos y textos dispersos, dificultaba la comprensión del contexto. Con esta función, primero añadimos el título del div al que pertenece el texto y luego el contenido textual. De esta manera, logramos organizar mejor los textos, proporcionando un contexto más claro y una estructura más coherente."
      ],
      "metadata": {
        "id": "a4lMr3GDz7A1"
      }
    },
    {
      "cell_type": "code",
      "source": [
        "def procesar_documento(soup):\n",
        "    documents = []\n",
        "\n",
        "    for section in soup.find_all('section'):\n",
        "        current_header = \"\"\n",
        "        current_chunk = \"\"\n",
        "        current_section_title = \"\"\n",
        "\n",
        "        for tag in section.find_all(['h1', 'h2', 'h3', 'h4', 'h5', 'h6', 'p']):\n",
        "            if tag.name.startswith('h'):\n",
        "                if not current_header:\n",
        "                    current_header = tag.get_text().strip()\n",
        "                    current_section_title = tag.get_text().strip()\n",
        "                else:\n",
        "                    if current_chunk:\n",
        "                        documents.append(f\"{current_header}: {current_chunk.strip()}\")\n",
        "                        current_chunk = \"\"\n",
        "                    current_header = current_section_title + ': ' + tag.get_text().strip()\n",
        "            else:\n",
        "                current_chunk += \" \" + tag.get_text()\n",
        "\n",
        "        if current_chunk:\n",
        "            documents.append(f\"{current_header}: {current_chunk.strip()}\")\n",
        "            current_chunk = \"\"\n",
        "\n",
        "    for tag in soup.find_all(['h1', 'h2', 'h3', 'h4', 'h5', 'h6', 'p']):\n",
        "        if tag.find_parent('section') is None:\n",
        "            documents.append(tag.get_text().strip())\n",
        "\n",
        "    return documents"
      ],
      "metadata": {
        "id": "yCNaVeGragaZ"
      },
      "execution_count": null,
      "outputs": []
    },
    {
      "cell_type": "markdown",
      "source": [
        "### Scraping"
      ],
      "metadata": {
        "id": "FO5gINhq3xn7"
      }
    },
    {
      "cell_type": "code",
      "source": [
        "def obtener_documentos(url):\n",
        "    response = requests.get(url)\n",
        "\n",
        "    if response.status_code == 200:\n",
        "        soup = BeautifulSoup(response.content, 'html.parser')\n",
        "\n",
        "        documents = procesar_documento(soup)\n",
        "\n",
        "        enlaces = extraer_enlaces(soup)\n",
        "\n",
        "        documents_from_links = procesar_enlaces(url, enlaces)\n",
        "\n",
        "        documents.extend(documents_from_links)\n",
        "\n",
        "        return documents\n",
        "    else:\n",
        "        print(f\"Error al acceder a la URL: {response.status_code}\")\n",
        "        return []"
      ],
      "metadata": {
        "id": "jY-5t1R711wi"
      },
      "execution_count": null,
      "outputs": []
    },
    {
      "cell_type": "code",
      "source": [
        "url = \"https://fi.ort.edu.uy/ingenieria-en-sistemas\"\n",
        "\n",
        "documents = obtener_documentos(url)\n",
        "\n",
        "docs = [Document(page_content=normalize_text(doc)) for doc in documents]\n",
        "\n",
        "text_splitter = RecursiveCharacterTextSplitter(chunk_size=1500, chunk_overlap=50)\n",
        "\n",
        "text_chunks = text_splitter.split_documents(docs)"
      ],
      "metadata": {
        "id": "GSaCmlJ3Bxzt"
      },
      "execution_count": null,
      "outputs": []
    },
    {
      "cell_type": "markdown",
      "source": [
        "## Creacion de embeddings"
      ],
      "metadata": {
        "id": "Rm35mrwx4O6D"
      }
    },
    {
      "cell_type": "markdown",
      "source": [
        "Para esto primero se probaron dos modelos diferentes para decidir cual era el mejor modelo de embeddings"
      ],
      "metadata": {
        "id": "hARil0deCLcL"
      }
    },
    {
      "cell_type": "markdown",
      "source": [
        "### All-MiniLM-L6-v2"
      ],
      "metadata": {
        "id": "tmvE40kUCRI9"
      }
    },
    {
      "cell_type": "code",
      "source": [
        "embeddings = HuggingFaceEmbeddings(model_name=\"sentence-transformers/all-MiniLM-L6-v2\")"
      ],
      "metadata": {
        "id": "DTKrivfH3F-V"
      },
      "execution_count": null,
      "outputs": []
    },
    {
      "cell_type": "code",
      "source": [
        "# Extraer texto de los chunks\n",
        "texts = [chunk.page_content for chunk in text_chunks]  # Lista de textos a embebedar\n",
        "\n",
        "# Crear embeddings usando el modelo con dimensión 384\n",
        "vectors = embeddings.embed_documents(texts)  # Generar los embeddings para cada chunk"
      ],
      "metadata": {
        "id": "COR2TnCL3Onr"
      },
      "execution_count": null,
      "outputs": []
    },
    {
      "cell_type": "markdown",
      "source": [
        "## Base de datos vectorial"
      ],
      "metadata": {
        "id": "9d8v4sNk7SgE"
      }
    },
    {
      "cell_type": "markdown",
      "source": [
        "### Creacion de la base de datos vectorial"
      ],
      "metadata": {
        "id": "q3noY5s04IlR"
      }
    },
    {
      "cell_type": "code",
      "source": [
        "# Configuracion del API key y creacion de la instancia de Pinecone\n",
        "pc = Pinecone(api_key=\"b0f2ee7b-75a9-4c4e-a7fe-f94deb2e984b\")\n",
        "\n",
        "index_name = \"ort-5\"\n",
        "\n",
        "# Verificar si el indice ya existe\n",
        "existing_indexes = pc.list_indexes().names()\n",
        "if index_name not in existing_indexes:\n",
        "    pc.create_index(\n",
        "        name=index_name,\n",
        "        dimension=384,\n",
        "        metric=\"dotproduct\",\n",
        "        spec=ServerlessSpec(\n",
        "            cloud=\"aws\",\n",
        "            region=\"us-east-1\"\n",
        "        )\n",
        "    )\n",
        "\n",
        "\n",
        "# Conectar al indice\n",
        "index = pc.Index(index_name)"
      ],
      "metadata": {
        "id": "N6SD7woW3K6n"
      },
      "execution_count": null,
      "outputs": []
    },
    {
      "cell_type": "markdown",
      "source": [
        "## Almacenamiento en base de datos"
      ],
      "metadata": {
        "id": "Ib900svRC1vs"
      }
    },
    {
      "cell_type": "code",
      "source": [
        "batch_size = 1000\n",
        "\n",
        "# Dividir los vectores en lotes y hacer upsert de cada uno\n",
        "for i in range(0, len(vectors), batch_size):\n",
        "    batch_vectors = vectors[i:i + batch_size]\n",
        "    batch_texts = texts[i:i + batch_size]\n",
        "\n",
        "    upserts = [(str(i + j), vector, {\"content\": text})\n",
        "            for j, (vector, text) in enumerate(zip(batch_vectors, batch_texts))]\n",
        "\n",
        "    # Subir el lote a Pinecone\n",
        "    index.upsert(upserts)\n",
        "\n",
        "print(f\"Vector store creado con éxito en Pinecone con {len(text_chunks)} embeddings.\")"
      ],
      "metadata": {
        "id": "EanLq7tOC4Rx"
      },
      "execution_count": null,
      "outputs": []
    },
    {
      "cell_type": "markdown",
      "source": [
        "## Modelo de generacion de textos"
      ],
      "metadata": {
        "id": "sEocmjxWTrv1"
      }
    },
    {
      "cell_type": "code",
      "source": [
        "MODEL_ID = \"mistralai/Mistral-7B-Instruct-v0.1\""
      ],
      "metadata": {
        "id": "W5r7m5mJ-QdV"
      },
      "execution_count": null,
      "outputs": []
    },
    {
      "cell_type": "code",
      "source": [
        "model = AutoModelForCausalLM.from_pretrained(\n",
        "    MODEL_ID,\n",
        "    device_map=\"auto\",\n",
        "    torch_dtype=torch.float16\n",
        ")\n"
      ],
      "metadata": {
        "id": "jvSLHskF93nx",
        "colab": {
          "base_uri": "https://localhost:8080/",
          "height": 113,
          "referenced_widgets": [
            "5c7ba10a1459402e8ba3edc2ff427141",
            "3fd3d337420a4155b38555a497c33b6a",
            "eb3d54879d8f44a6b5d37f470cf6c283",
            "bf72eab493fa46d1abdddeeecddfaac6",
            "b22d74b24d2d4d06973d8fb24a268da6",
            "c71c7c6ccf55402093ade55caf278734",
            "c0d9584334e244078c84e292294ea7a2",
            "e198c80d3a7e4bdbbca578a06109cf0e",
            "1380f452500c44a6a144394da3d3445a",
            "c5f1605fe8f243059f7350e320a31b20",
            "fc9f68359067479c9a9f3958e96f56b4",
            "f6ec0308a64146eab58af42565b2f5f4",
            "a32b6a62158e469f9cea71f3bdb67c21",
            "59ad903c7bda4fafaa745186c832fbe2",
            "ee20061c4b5d4c5aa747deed6fbc5407",
            "4ee112a90bf44937a88614e87603200b",
            "12ed4730f5364055b190162adef321c0",
            "68d5e6d670a44a2c90598875f3b9d432",
            "baeaa7d3423f4a2781e6e1f1f14fab27",
            "2b495e7214b04881a97dfa69a758b303",
            "532e99b86da94ff0b65bea0ffadf8070",
            "d1c66060b7cd47d9b79eb3c3902ab2fd",
            "db78e749444e43bc96340d702e73edc3",
            "f0d24cc1281f49d49dc11b1969f7a3b4",
            "e3834df4a07a4aeda91f9f439702cfc1",
            "defe51e33a5245ad9b11e9e3136dcaaf",
            "d8b6dc4ad3f34cad979b7c7c425a6cb7",
            "33a71f46371b48898be1f14065db8aa4",
            "f91184f716254c2f8b872997f9bc9b1b",
            "23d7f4b8d41e45a4b974fa76749a6001",
            "c1c92145716c4b929a19dc62c340c830",
            "6fd0950b20294b16885ff33c18f9bc2c",
            "730783c61cb6434a907416ad89e165f4"
          ]
        },
        "outputId": "b5bb7012-b78d-4fb1-c4ff-32ea3d78a9a6"
      },
      "execution_count": null,
      "outputs": [
        {
          "data": {
            "application/vnd.jupyter.widget-view+json": {
              "model_id": "5c7ba10a1459402e8ba3edc2ff427141",
              "version_major": 2,
              "version_minor": 0
            },
            "text/plain": [
              "model.safetensors.index.json:   0%|          | 0.00/25.1k [00:00<?, ?B/s]"
            ]
          },
          "metadata": {},
          "output_type": "display_data"
        },
        {
          "data": {
            "application/vnd.jupyter.widget-view+json": {
              "model_id": "f6ec0308a64146eab58af42565b2f5f4",
              "version_major": 2,
              "version_minor": 0
            },
            "text/plain": [
              "Downloading shards:   0%|          | 0/2 [00:00<?, ?it/s]"
            ]
          },
          "metadata": {},
          "output_type": "display_data"
        },
        {
          "data": {
            "application/vnd.jupyter.widget-view+json": {
              "model_id": "db78e749444e43bc96340d702e73edc3",
              "version_major": 2,
              "version_minor": 0
            },
            "text/plain": [
              "model-00001-of-00002.safetensors:   0%|          | 0.00/9.94G [00:00<?, ?B/s]"
            ]
          },
          "metadata": {},
          "output_type": "display_data"
        }
      ]
    },
    {
      "cell_type": "code",
      "source": [
        "tokenizer = AutoTokenizer.from_pretrained(MODEL_ID)"
      ],
      "metadata": {
        "id": "5qTRNVsr-_5F"
      },
      "execution_count": null,
      "outputs": []
    },
    {
      "cell_type": "code",
      "source": [
        "# Crear el generador de texto\n",
        "generator = pipeline(\"text-generation\", model=model, tokenizer=tokenizer)"
      ],
      "metadata": {
        "id": "RIjdyGM2A8Ul"
      },
      "execution_count": null,
      "outputs": []
    },
    {
      "cell_type": "code",
      "source": [
        "def get_relevant_context(question, top_k=25):\n",
        "    # Generar embedding de la pregunta\n",
        "    question_embedding = embeddings.embed_documents([question])[0]\n",
        "\n",
        "    # Utilizamos Pinecone para realizar busqueda por similitud, que fue seteada cuando creamos la bd, utilizando la metrica dotproduct, que fue la que mejores respuestas nos dio\n",
        "    results = index.query(vector=question_embedding, top_k=top_k, include_metadata=True)\n",
        "\n",
        "    context = [match['metadata']['content'] for match in results['matches']]\n",
        "\n",
        "    return context"
      ],
      "metadata": {
        "id": "uWTrYFfW_MBB"
      },
      "execution_count": null,
      "outputs": []
    },
    {
      "cell_type": "code",
      "source": [
        "def ask_bot(question):\n",
        "\n",
        "    context = get_relevant_context(question)\n",
        "\n",
        "    if not context:\n",
        "        return \"No se encontraron documentos relevantes para la pregunta.\"\n",
        "\n",
        "    prompt = (\n",
        "        f\"Usa solo la siguiente información para responder de forma precisa:\\n\\n\"\n",
        "        f\"Contexto:\\n{context}\\n\\n\"\n",
        "        f\"Pregunta: {question}\\n\\n\"\n",
        "        f\"Responde de manera precisa y breve:\"\n",
        "    )\n",
        "\n",
        "    # Generar la respuesta usando el contexto\n",
        "    response = generator(\n",
        "        prompt, max_new_tokens=500, truncation=True\n",
        "    )[0]['generated_text']\n",
        "\n",
        "    generated_answer = response.split(\"Responde de manera precisa y breve:\")[-1].strip()\n",
        "\n",
        "    return generated_answer"
      ],
      "metadata": {
        "id": "icm-6ik2yya3"
      },
      "execution_count": null,
      "outputs": []
    },
    {
      "cell_type": "markdown",
      "source": [
        "## Preguntas de prueba"
      ],
      "metadata": {
        "id": "dBYRMb2yTwHI"
      }
    },
    {
      "cell_type": "code",
      "source": [
        "pregunta = normalize_text(\"¿Cuál es la duración de años?\")\n",
        "respuesta = ask_bot(pregunta)\n",
        "\n",
        "print(\"Respuesta:\", respuesta)"
      ],
      "metadata": {
        "id": "0HBDg0d-T7Bz"
      },
      "execution_count": null,
      "outputs": []
    },
    {
      "cell_type": "code",
      "source": [
        "pregunta =  normalize_text(\"¿Cuáles son los horarios de clase matutino?\")\n",
        "respuesta = ask_bot(pregunta)\n",
        "\n",
        "print(\"Respuesta:\", respuesta)"
      ],
      "metadata": {
        "id": "CRGXJu6AMmGv"
      },
      "execution_count": null,
      "outputs": []
    },
    {
      "cell_type": "code",
      "source": [
        "pregunta =  normalize_text(\"¿horarios de clase para semestre nocturno?\")\n",
        "respuesta = ask_bot(pregunta)\n",
        "\n",
        "print(\"Respuesta:\", respuesta)"
      ],
      "metadata": {
        "id": "PRyKvgAxMFIg"
      },
      "execution_count": null,
      "outputs": []
    },
    {
      "cell_type": "code",
      "source": [
        "pregunta =  normalize_text(\"¿horarios de clase vespertino?\")\n",
        "respuesta = ask_bot(pregunta)\n",
        "\n",
        "print(\"Respuesta:\", respuesta)"
      ],
      "metadata": {
        "id": "qVr7jV_aQcvy"
      },
      "execution_count": null,
      "outputs": []
    },
    {
      "cell_type": "code",
      "source": [
        "pregunta =  normalize_text(\"¿Cual es la modalidad de cursado para el turno matutino del semestre 1 al 4?\")\n",
        "respuesta = ask_bot(pregunta)\n",
        "\n",
        "print(\"Respuesta:\", respuesta)"
      ],
      "metadata": {
        "id": "Bk5A5_ZSQnQK"
      },
      "execution_count": null,
      "outputs": []
    },
    {
      "cell_type": "code",
      "source": [
        "pregunta =  normalize_text(\"¿Cual es la modalidad de cursado para el turno vespertino del semestre 5 en adelante?\")\n",
        "respuesta = ask_bot(pregunta)\n",
        "\n",
        "print(\"Respuesta:\", respuesta)"
      ],
      "metadata": {
        "id": "9zkEMJakQ0D4"
      },
      "execution_count": null,
      "outputs": []
    },
    {
      "cell_type": "code",
      "source": [
        "pregunta =  normalize_text(\"¿Cual es la modalidad de cursado para el turno nocturno?\")\n",
        "respuesta = ask_bot(pregunta)\n",
        "\n",
        "print(\"Respuesta:\", respuesta)"
      ],
      "metadata": {
        "id": "GDdm8XL5vNqR"
      },
      "execution_count": null,
      "outputs": []
    },
    {
      "cell_type": "code",
      "source": [
        "pregunta =  normalize_text(\"¿Que son las Áreas de profundización?\")\n",
        "respuesta = ask_bot(pregunta)\n",
        "\n",
        "print(\"Respuesta:\", respuesta)"
      ],
      "metadata": {
        "id": "eKk3kGnFRjor"
      },
      "execution_count": null,
      "outputs": []
    },
    {
      "cell_type": "code",
      "source": [
        "pregunta =  normalize_text(\"Dame info sobre el area de profundizacion de Inteligencia Artificial y Analítica de Datos\")\n",
        "respuesta = ask_bot(pregunta)\n",
        "\n",
        "print(\"Respuesta:\", respuesta)\n"
      ],
      "metadata": {
        "id": "PPo960Z0MgHQ"
      },
      "execution_count": null,
      "outputs": []
    },
    {
      "cell_type": "code",
      "source": [
        "pregunta = normalize_text(\"¿cuando se informan los valores de las cuotas?\")\n",
        "respuesta = ask_bot(pregunta)\n",
        "\n",
        "print(\"Respuesta:\", respuesta)"
      ],
      "metadata": {
        "id": "KGdWmd9wSwSt"
      },
      "execution_count": null,
      "outputs": []
    },
    {
      "cell_type": "code",
      "source": [
        "pregunta =  normalize_text(\"¿Cual es el Perfil de los graduados de ingeniería en sistemas?\")\n",
        "respuesta = ask_bot(pregunta)\n",
        "\n",
        "print(\"Respuesta:\", respuesta)"
      ],
      "metadata": {
        "id": "B50UUf_8Q-Vb"
      },
      "execution_count": null,
      "outputs": []
    },
    {
      "cell_type": "code",
      "source": [
        "pregunta =  normalize_text(\"¿Quiénes pueden cursar el CerIA?\")\n",
        "respuesta = ask_bot(pregunta)\n",
        "\n",
        "print(\"Respuesta:\", respuesta)\n"
      ],
      "metadata": {
        "id": "jDk07xpWeRry"
      },
      "execution_count": null,
      "outputs": []
    },
    {
      "cell_type": "code",
      "source": [
        "pregunta =  normalize_text(\"¿El CerIA es un título de postgrado?\")\n",
        "respuesta = ask_bot(pregunta)\n",
        "\n",
        "print(\"Respuesta:\", respuesta)"
      ],
      "metadata": {
        "id": "dyClQDIRru63"
      },
      "execution_count": null,
      "outputs": []
    },
    {
      "cell_type": "code",
      "source": [
        "pregunta =  normalize_text(\"¿A quienes esta dirigido el Servicio de orientación laboral?\")\n",
        "respuesta = ask_bot(pregunta)\n",
        "\n",
        "print(\"Respuesta:\", respuesta)"
      ],
      "metadata": {
        "id": "TA-JzYRVseBP"
      },
      "execution_count": null,
      "outputs": []
    },
    {
      "cell_type": "code",
      "source": [
        "pregunta =  normalize_text(\"¿Que se hace en el Servicio de orientación laboral?\")\n",
        "respuesta = ask_bot(pregunta)\n",
        "\n",
        "print(\"Respuesta:\", respuesta)"
      ],
      "metadata": {
        "id": "M-iNoDp0s2BN"
      },
      "execution_count": null,
      "outputs": []
    },
    {
      "cell_type": "code",
      "source": [
        "pregunta =  normalize_text(\"¿Cuando la Facultad de Ingeniería recibió por parte de la Comisión ad hoc de la Acreditación ARCU-SUR?\")\n",
        "respuesta = ask_bot(pregunta)\n",
        "\n",
        "print(\"Respuesta:\", respuesta)"
      ],
      "metadata": {
        "id": "p_safD6PtG8i"
      },
      "execution_count": null,
      "outputs": []
    },
    {
      "cell_type": "code",
      "source": [
        "pregunta =  normalize_text(\"¿Que cargos ocupan los graduados?\")\n",
        "respuesta = ask_bot(pregunta)\n",
        "\n",
        "print(\"Respuesta:\", respuesta)"
      ],
      "metadata": {
        "id": "P3ZoJN8OtgTx"
      },
      "execution_count": null,
      "outputs": []
    },
    {
      "cell_type": "code",
      "source": [
        "pregunta =  normalize_text(\"¿Que es el Taller de Nivelación de Conocimientos de Matemática?\")\n",
        "respuesta = ask_bot(pregunta)\n",
        "\n",
        "print(\"Respuesta:\", respuesta)"
      ],
      "metadata": {
        "id": "Z2t6HZvDttxX"
      },
      "execution_count": null,
      "outputs": []
    }
  ]
}